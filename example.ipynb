{
 "cells": [
  {
   "cell_type": "markdown",
   "metadata": {},
   "source": [
    "First, I'll show you the hard way, if you want to do all of this from scratch "
   ]
  },
  {
   "cell_type": "code",
   "execution_count": null,
   "metadata": {},
   "outputs": [],
   "source": [
    "import torch \n",
    "from torch_geometric.utils import erdos_renyi_graph\n",
    "from torch_geometric.data import Data\n",
    "from torch_cluster import random_walk"
   ]
  },
  {
   "cell_type": "code",
   "execution_count": null,
   "metadata": {},
   "outputs": [
    {
     "name": "stdout",
     "output_type": "stream",
     "text": [
      "tensor([[ 0,  0,  0,  ..., 99, 99, 99],\n",
      "        [23, 34, 35,  ..., 85, 90, 95]])\n"
     ]
    }
   ],
   "source": [
    "NUM_NODES = 100\n",
    "edge_index = erdos_renyi_graph(NUM_NODES, 0.1) # Generate random Erdos-Renyii graph w 100 nodes, and degree factor 0.1\n",
    "\n",
    "# Top row is source nodes, bottom row is destination nodes\n",
    "print(edge_index)"
   ]
  },
  {
   "cell_type": "code",
   "execution_count": null,
   "metadata": {},
   "outputs": [
    {
     "name": "stdout",
     "output_type": "stream",
     "text": [
      "tensor([[ 0, 78, 87, 88, 22, 59],\n",
      "        [ 1, 21, 21, 11, 16, 33],\n",
      "        [ 2, 67, 67,  4,  4, 30],\n",
      "        [ 3, 56, 68, 56, 56, 24],\n",
      "        [ 4, 27,  4,  4, 27, 82],\n",
      "        [ 5,  5, 44,  5, 21, 38],\n",
      "        [ 6, 92, 27,  4, 10,  4],\n",
      "        [ 7, 71, 71, 65, 91,  5],\n",
      "        [ 8, 75, 29, 88, 88, 63],\n",
      "        [ 9, 66,  0, 78, 77, 78]])\n"
     ]
    }
   ],
   "source": [
    "# High-performance random walk generator \n",
    "from torch_cluster.rw import random_walk\n",
    "\n",
    "# Need to add self loops, otherwise if rw generator gets to a terminal \n",
    "# node, when it tries to get the next edge probablility (1/num_edges) \n",
    "# it hits a divide by zero error and crashes\n",
    "from torch_geometric.utils import add_remaining_self_loops\n",
    "edge_index,_ = add_remaining_self_loops(edge_index)\n",
    "\n",
    "WALK_LEN = 5\n",
    "start_nodes = torch.arange(NUM_NODES)\n",
    "src = edge_index[0]\n",
    "dst = edge_index[1]\n",
    "rws = random_walk(src, dst, start_nodes, WALK_LEN)\n",
    "print(rws[:10])"
   ]
  },
  {
   "cell_type": "code",
   "execution_count": null,
   "metadata": {},
   "outputs": [
    {
     "ename": "AttributeError",
     "evalue": "module 'torch.nn' has no attribute 'module'",
     "output_type": "error",
     "traceback": [
      "\u001b[1;31m---------------------------------------------------------------------------\u001b[0m",
      "\u001b[1;31mAttributeError\u001b[0m                            Traceback (most recent call last)",
      "\u001b[1;32mc:\\Users\\The Jabberwock\\Documents\\School\\Grad\\Misc Code\\n2v_example\\example.ipynb Cell 5\u001b[0m in \u001b[0;36m<cell line: 2>\u001b[1;34m()\u001b[0m\n\u001b[0;32m      <a href='vscode-notebook-cell:/c%3A/Users/The%20Jabberwock/Documents/School/Grad/Misc%20Code/n2v_example/example.ipynb#W3sZmlsZQ%3D%3D?line=0'>1</a>\u001b[0m \u001b[39m# Threw together simple skipgram model\u001b[39;00m\n\u001b[1;32m----> <a href='vscode-notebook-cell:/c%3A/Users/The%20Jabberwock/Documents/School/Grad/Misc%20Code/n2v_example/example.ipynb#W3sZmlsZQ%3D%3D?line=1'>2</a>\u001b[0m \u001b[39mfrom\u001b[39;00m \u001b[39mskipgram\u001b[39;00m \u001b[39mimport\u001b[39;00m SkipGram\n\u001b[0;32m      <a href='vscode-notebook-cell:/c%3A/Users/The%20Jabberwock/Documents/School/Grad/Misc%20Code/n2v_example/example.ipynb#W3sZmlsZQ%3D%3D?line=2'>3</a>\u001b[0m \u001b[39mfrom\u001b[39;00m \u001b[39mtorch\u001b[39;00m\u001b[39m.\u001b[39;00m\u001b[39moptim\u001b[39;00m \u001b[39mimport\u001b[39;00m Adam\n\u001b[0;32m      <a href='vscode-notebook-cell:/c%3A/Users/The%20Jabberwock/Documents/School/Grad/Misc%20Code/n2v_example/example.ipynb#W3sZmlsZQ%3D%3D?line=4'>5</a>\u001b[0m EPOCHS \u001b[39m=\u001b[39m \u001b[39m100\u001b[39m\n",
      "File \u001b[1;32mc:\\Users\\The Jabberwock\\Documents\\School\\Grad\\Misc Code\\n2v_example\\skipgram.py:6\u001b[0m, in \u001b[0;36m<module>\u001b[1;34m\u001b[0m\n\u001b[0;32m      2\u001b[0m \u001b[39mfrom\u001b[39;00m \u001b[39mtorch\u001b[39;00m \u001b[39mimport\u001b[39;00m nn \n\u001b[0;32m      4\u001b[0m \u001b[39m# You can then, by hand, make a skip-gram network \u001b[39;00m\n\u001b[0;32m      5\u001b[0m \u001b[39m# to encode the random walks \u001b[39;00m\n\u001b[1;32m----> 6\u001b[0m \u001b[39mclass\u001b[39;00m \u001b[39mSkipGram\u001b[39;00m(nn\u001b[39m.\u001b[39;49mmodule):\n\u001b[0;32m      7\u001b[0m     \u001b[39mdef\u001b[39;00m \u001b[39m__init__\u001b[39m(\u001b[39mself\u001b[39m, num_nodes, enc_dim):\n\u001b[0;32m      8\u001b[0m         \u001b[39mself\u001b[39m\u001b[39m.\u001b[39msuper()\u001b[39m.\u001b[39m\u001b[39m__init__\u001b[39m()\n",
      "\u001b[1;31mAttributeError\u001b[0m: module 'torch.nn' has no attribute 'module'"
     ]
    }
   ],
   "source": [
    "# Threw together simple skipgram model\n",
    "from skipgram import SkipGram\n",
    "from torch.optim import Adam\n",
    "\n",
    "EPOCHS = 100\n",
    "ENC_DIM = 16\n",
    "\n",
    "model = SkipGram(NUM_NODES, ENC_DIM)\n",
    "opt = Adam(model.parameters(), lr=0.01)\n",
    "for e in range(EPOCHS):\n",
    "    opt.zero_grad()\n",
    "    rws = random_walk(*edge_index, torch.arange(NUM_NODES), WALK_LEN)\n",
    "    batch, rw = rws[:,0], rws[:,1:]\n",
    "    loss = model.forward(batch, rw)\n",
    "    loss.backward()\n",
    "    opt.step()\n",
    "\n",
    "with torch.zero_grad():\n",
    "    embs = model.embed(torch.arange(NUM_NODES))\n",
    "    print(embs[:10])"
   ]
  }
 ],
 "metadata": {
  "kernelspec": {
   "display_name": "smoke",
   "language": "python",
   "name": "python3"
  },
  "language_info": {
   "codemirror_mode": {
    "name": "ipython",
    "version": 3
   },
   "file_extension": ".py",
   "mimetype": "text/x-python",
   "name": "python",
   "nbconvert_exporter": "python",
   "pygments_lexer": "ipython3",
   "version": "3.10.6"
  },
  "orig_nbformat": 4
 },
 "nbformat": 4,
 "nbformat_minor": 2
}
