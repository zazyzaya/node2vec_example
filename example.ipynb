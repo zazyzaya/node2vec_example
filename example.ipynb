{
 "cells": [
  {
   "cell_type": "markdown",
   "metadata": {},
   "source": [
    "# The hard way \n",
    "\n",
    "First, I'll show you the hard way, if you want to do all of this from scratch "
   ]
  },
  {
   "cell_type": "code",
   "execution_count": 1,
   "metadata": {},
   "outputs": [],
   "source": [
    "import torch \n",
    "from torch_geometric.datasets import KarateClub"
   ]
  },
  {
   "cell_type": "code",
   "execution_count": 2,
   "metadata": {},
   "outputs": [
    {
     "name": "stdout",
     "output_type": "stream",
     "text": [
      "tensor([[ 0,  0,  0,  0,  0,  0,  0,  0,  0,  0,  0,  0,  0,  0,  0,  0,  1,  1,\n",
      "          1,  1,  1,  1,  1,  1,  1,  2,  2,  2,  2,  2,  2,  2,  2,  2,  2,  3,\n",
      "          3,  3,  3,  3,  3,  4,  4,  4,  5,  5,  5,  5,  6,  6,  6,  6,  7,  7,\n",
      "          7,  7,  8,  8,  8,  8,  8,  9,  9, 10, 10, 10, 11, 12, 12, 13, 13, 13,\n",
      "         13, 13, 14, 14, 15, 15, 16, 16, 17, 17, 18, 18, 19, 19, 19, 20, 20, 21,\n",
      "         21, 22, 22, 23, 23, 23, 23, 23, 24, 24, 24, 25, 25, 25, 26, 26, 27, 27,\n",
      "         27, 27, 28, 28, 28, 29, 29, 29, 29, 30, 30, 30, 30, 31, 31, 31, 31, 31,\n",
      "         31, 32, 32, 32, 32, 32, 32, 32, 32, 32, 32, 32, 32, 33, 33, 33, 33, 33,\n",
      "         33, 33, 33, 33, 33, 33, 33, 33, 33, 33, 33, 33],\n",
      "        [ 1,  2,  3,  4,  5,  6,  7,  8, 10, 11, 12, 13, 17, 19, 21, 31,  0,  2,\n",
      "          3,  7, 13, 17, 19, 21, 30,  0,  1,  3,  7,  8,  9, 13, 27, 28, 32,  0,\n",
      "          1,  2,  7, 12, 13,  0,  6, 10,  0,  6, 10, 16,  0,  4,  5, 16,  0,  1,\n",
      "          2,  3,  0,  2, 30, 32, 33,  2, 33,  0,  4,  5,  0,  0,  3,  0,  1,  2,\n",
      "          3, 33, 32, 33, 32, 33,  5,  6,  0,  1, 32, 33,  0,  1, 33, 32, 33,  0,\n",
      "          1, 32, 33, 25, 27, 29, 32, 33, 25, 27, 31, 23, 24, 31, 29, 33,  2, 23,\n",
      "         24, 33,  2, 31, 33, 23, 26, 32, 33,  1,  8, 32, 33,  0, 24, 25, 28, 32,\n",
      "         33,  2,  8, 14, 15, 18, 20, 22, 23, 29, 30, 31, 33,  8,  9, 13, 14, 15,\n",
      "         18, 19, 20, 22, 23, 26, 27, 28, 29, 30, 31, 32]])\n"
     ]
    }
   ],
   "source": [
    "# Just a toy dataset \n",
    "g = KarateClub().data\n",
    "edge_index = g.edge_index\n",
    "NUM_NODES = g.num_nodes \n",
    "\n",
    "# Top row is source nodes, bottom row is destination nodes\n",
    "print(edge_index)"
   ]
  },
  {
   "cell_type": "code",
   "execution_count": 3,
   "metadata": {},
   "outputs": [
    {
     "name": "stdout",
     "output_type": "stream",
     "text": [
      "tensor([[ 0,  3,  1,  2],\n",
      "        [ 1, 30,  8, 32],\n",
      "        [ 2,  8,  2,  1],\n",
      "        [ 3,  7,  1, 30],\n",
      "        [ 4, 10, 10,  5],\n",
      "        [ 5,  0,  2, 28],\n",
      "        [ 6,  0, 10,  4],\n",
      "        [ 7,  0,  6,  0],\n",
      "        [ 8, 33, 27, 23],\n",
      "        [ 9, 33, 33, 28]])\n"
     ]
    }
   ],
   "source": [
    "# High-performance random walk generator \n",
    "from torch_cluster.rw import random_walk\n",
    "\n",
    "# Need to add self loops, otherwise if rw generator gets to a terminal \n",
    "# node, when it tries to get the next edge probablility (1/num_edges) \n",
    "# it hits a divide by zero error and crashes\n",
    "from torch_geometric.utils import add_remaining_self_loops\n",
    "edge_index,_ = add_remaining_self_loops(edge_index)\n",
    "\n",
    "WALK_LEN = 3\n",
    "start_nodes = torch.arange(NUM_NODES)\n",
    "src = edge_index[0]\n",
    "dst = edge_index[1]\n",
    "rws = random_walk(src, dst, start_nodes, WALK_LEN)\n",
    "print(rws[:10])"
   ]
  },
  {
   "cell_type": "code",
   "execution_count": 4,
   "metadata": {},
   "outputs": [
    {
     "name": "stdout",
     "output_type": "stream",
     "text": [
      "Dot product of neighbors:\n",
      "tensor([0.9825, 0.5487, 0.9946, 0.9381, 0.7961, 0.8068, 0.9461, 0.4466, 0.9523,\n",
      "        0.9994])\n",
      "Dot product of non-neighbors\n",
      "tensor([0.1395, 0.0416, 0.6067, 0.0134, 0.9786, 0.9952, 0.8769, 0.9971, 0.9964,\n",
      "        0.4502])\n"
     ]
    }
   ],
   "source": [
    "# Threw together simple skipgram model\n",
    "# (note: i didn't bother with negative samples, so this runs the \n",
    "# original word2vec algorithm technically)\n",
    "from skipgram import SkipGram\n",
    "from torch.optim import Adam\n",
    "\n",
    "EPOCHS = 1000\n",
    "ENC_DIM = 16\n",
    "\n",
    "model = SkipGram(NUM_NODES, ENC_DIM)\n",
    "opt = Adam(model.parameters(), lr=0.01)\n",
    "for e in range(EPOCHS):\n",
    "    opt.zero_grad()\n",
    "    rws = random_walk(*edge_index, torch.arange(NUM_NODES), WALK_LEN)\n",
    "    batch, rw = rws[:,0], rws[:,1:]\n",
    "    loss = model(batch, rw) # Calls model.forward\n",
    "    loss.backward()\n",
    "    opt.step()\n",
    "\n",
    "with torch.no_grad():\n",
    "    src = model.embed(edge_index[0][:10])\n",
    "    dst = model.embed(edge_index[1][:10])\n",
    "    rnd_src = model.embed(torch.randint(0, NUM_NODES-1, (10,)))\n",
    "    rnd_dst = model.embed(torch.randint(0, NUM_NODES-1, (10,)))\n",
    "\n",
    "print(\"Dot product of neighbors:\")\n",
    "print(torch.sigmoid((src * dst).sum(dim=1)))\n",
    "\n",
    "print(\"Dot product of non-neighbors\")\n",
    "print(torch.sigmoid((rnd_src * rnd_dst).sum(dim=1)))\n"
   ]
  },
  {
   "cell_type": "markdown",
   "metadata": {},
   "source": [
    "This does pretty well, but it doesn't have a lot of the fancy optimizations of the torch_geo Node2Vec model. Plus, that model has everything from random walks to inference built in already. So let's see how that runs... "
   ]
  },
  {
   "cell_type": "markdown",
   "metadata": {},
   "source": [
    "# The easy way"
   ]
  },
  {
   "cell_type": "code",
   "execution_count": 5,
   "metadata": {},
   "outputs": [
    {
     "name": "stdout",
     "output_type": "stream",
     "text": [
      "Dot product of neighbors:\n",
      "tensor([0.8469, 0.6914, 0.7759, 0.7902, 0.7484, 0.7404, 0.8190, 0.6893, 0.7557,\n",
      "        0.8221])\n",
      "Dot product of non-neighbors\n",
      "tensor([0.3816, 0.6139, 0.7081, 0.4665, 0.4770, 0.9148, 0.5139, 0.2607, 0.7462,\n",
      "        0.3050])\n"
     ]
    }
   ],
   "source": [
    "from torch_geometric.nn.models import Node2Vec\n",
    "\n",
    "n2v = Node2Vec(edge_index, ENC_DIM, WALK_LEN, WALK_LEN)\n",
    "opt = Adam(n2v.parameters(), lr=0.01)\n",
    "\n",
    "for e in range(EPOCHS):\n",
    "    opt.zero_grad()\n",
    "    pos_sample = n2v.pos_sample(torch.arange(NUM_NODES))\n",
    "    neg_sample = n2v.neg_sample(torch.arange(NUM_NODES))\n",
    "    loss = n2v.loss(pos_sample, neg_sample)\n",
    "    loss.backward()\n",
    "    opt.step()\n",
    "\n",
    "with torch.no_grad():\n",
    "    src = n2v(edge_index[0][:10])\n",
    "    dst = n2v(edge_index[1][:10])\n",
    "    rnd_src = n2v(torch.randint(0, NUM_NODES-1, (10,)))\n",
    "    rnd_dst = n2v(torch.randint(0, NUM_NODES-1, (10,)))\n",
    "\n",
    "print(\"Dot product of neighbors:\")\n",
    "print(torch.sigmoid((src * dst).sum(dim=1)))\n",
    "\n",
    "print(\"Dot product of non-neighbors\")\n",
    "print(torch.sigmoid((rnd_src * rnd_dst).sum(dim=1)))"
   ]
  },
  {
   "cell_type": "markdown",
   "metadata": {},
   "source": [
    "Note that this is a small-ish dataset, so some of the \"non-edges\" may be edges just by chance... I didn't really validate this to try to push it out quickly. "
   ]
  }
 ],
 "metadata": {
  "kernelspec": {
   "display_name": "smoke",
   "language": "python",
   "name": "python3"
  },
  "language_info": {
   "codemirror_mode": {
    "name": "ipython",
    "version": 3
   },
   "file_extension": ".py",
   "mimetype": "text/x-python",
   "name": "python",
   "nbconvert_exporter": "python",
   "pygments_lexer": "ipython3",
   "version": "3.10.6"
  },
  "orig_nbformat": 4
 },
 "nbformat": 4,
 "nbformat_minor": 2
}
